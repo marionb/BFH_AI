{
  "nbformat": 4,
  "nbformat_minor": 0,
  "metadata": {
    "colab": {
      "provenance": [],
      "collapsed_sections": [],
      "authorship_tag": "ABX9TyMC35aOt4TXqygIzZpjaLFW",
      "include_colab_link": true
    },
    "kernelspec": {
      "name": "python3",
      "display_name": "Python 3"
    },
    "language_info": {
      "name": "python"
    }
  },
  "cells": [
    {
      "cell_type": "markdown",
      "metadata": {
        "id": "view-in-github",
        "colab_type": "text"
      },
      "source": [
        "<a href=\"https://colab.research.google.com/github/marionb/BFH_AI/blob/main/20221001_Homework_AI.ipynb\" target=\"_parent\"><img src=\"https://colab.research.google.com/assets/colab-badge.svg\" alt=\"Open In Colab\"/></a>"
      ]
    },
    {
      "cell_type": "markdown",
      "source": [
        "# Homework 2\n",
        "## Training a  square  function\n",
        "\n",
        "$f(x) = m*x^2 - b$\n",
        "\n",
        "Derivatives to be used for the MSE calculation:\n",
        "\n",
        "$g(m,b)=(Y_i−f(x))^2 = (Y_i - (mx^2-b))^2$\n",
        "\n",
        "- $\\frac{\\partial g}{\\partial m} = -2x^2(Y_i - (mx^2-b))$\n",
        "\n",
        "- $\\frac{\\partial g}{\\partial b} = 2(Y_i - (mx^2-b))$"
      ],
      "metadata": {
        "id": "VgqXVG88G8Ho"
      }
    },
    {
      "cell_type": "code",
      "source": [
        "import numpy as np\n",
        "\n",
        "import matplotlib.pyplot as plt\n",
        "plt.rcdefaults()\n",
        "from pylab import rcParams\n",
        "%matplotlib inline"
      ],
      "metadata": {
        "id": "vP2_x66BKn7h"
      },
      "execution_count": null,
      "outputs": []
    },
    {
      "cell_type": "code",
      "source": [
        "def update_weights(m, b, X, Y, learning_rate):\n",
        "    '''\n",
        "    function to update: w_new = w_old - dL/dw * LearningRate with L=MSE\n",
        "    '''\n",
        "    m_deriv = 0\n",
        "    b_deriv = 0\n",
        "    N = len(X)\n",
        "    # Ableitung MSE\n",
        "    for i in range(N): # pytorch - backward # gradient tape\n",
        "        # Calculate partial derivatives\n",
        "        # -x (innere Ableitung) * 2(y - (a*x^2 + b)) (äussere Ableitung)\n",
        "        m_deriv += -2*X[i]**2 * (Y[i] - (m*X[i]**2 - b)) \n",
        "\n",
        "        # -2(y - (mx + b))\n",
        "        b_deriv += 2*(Y[i] - (m*X[i]**2 - b))\n",
        "        \n",
        "\n",
        "    # We subtract because the derivatives point in direction of steepest ascent\n",
        "    m -= (m_deriv / float(N)) * learning_rate # später - in pytorch step\n",
        "    b -= (b_deriv / float(N)) * learning_rate\n",
        "    history_m.append(m)\n",
        "    history_b.append(b)\n",
        "    \n",
        "    return m,b\n"
      ],
      "metadata": {
        "id": "HzPEKFrOHGQ0"
      },
      "execution_count": null,
      "outputs": []
    },
    {
      "cell_type": "code",
      "source": [
        "X = np.linspace(0,1, num = 100)\n",
        "m = 5\n",
        "b = 7\n",
        "Y = [m*x**2 - b for x in X]"
      ],
      "metadata": {
        "id": "JeGLnDQOLCa3"
      },
      "execution_count": null,
      "outputs": []
    },
    {
      "cell_type": "code",
      "source": [
        "def train(epochs):\n",
        "    m=0\n",
        "    b=0\n",
        "    learning_rate=0.01\n",
        "    for i in range(epochs):\n",
        "        # abbruchskriterium - \"early stopping\"\n",
        "        m,b = update_weights(m, b, X, Y, learning_rate)\n",
        "    return m,b"
      ],
      "metadata": {
        "id": "c76lDmvUMDMH"
      },
      "execution_count": null,
      "outputs": []
    },
    {
      "cell_type": "code",
      "source": [
        "history_m = []\n",
        "history_b = []\n",
        "epochs = 10000\n",
        "train(epochs)"
      ],
      "metadata": {
        "colab": {
          "base_uri": "https://localhost:8080/"
        },
        "id": "VTRUCD0ZMS9-",
        "outputId": "ee7f225a-6df5-4f99-be7f-82b1a8954fbe"
      },
      "execution_count": null,
      "outputs": [
        {
          "output_type": "execute_result",
          "data": {
            "text/plain": [
              "(4.9999993835739485, 6.999999775305488)"
            ]
          },
          "metadata": {},
          "execution_count": 5
        }
      ]
    },
    {
      "cell_type": "code",
      "source": [
        "plt.figure(figsize=(12,8))\n",
        "plt.plot(history_m[0:epochs])\n",
        "plt.plot(history_b[0:epochs])\n",
        "\n",
        "plt.ylabel('value',fontsize= 18)\n",
        "plt.xlabel('epoch',fontsize= 18)\n",
        "plt.legend(['m', 'b'], loc='upper right', fontsize= 18)\n",
        "plt.axhline(y=5, xmin=0, xmax=epochs, c='r', linewidth=2,linestyle=':')\n",
        "plt.axhline(y=7, xmin=0, xmax=epochs, c='b', linewidth=2, linestyle=':');"
      ],
      "metadata": {
        "colab": {
          "base_uri": "https://localhost:8080/",
          "height": 505
        },
        "id": "nbExoyO3NGU0",
        "outputId": "7193d3b7-0b37-4828-af96-a2b4452a43d7"
      },
      "execution_count": null,
      "outputs": [
        {
          "output_type": "display_data",
          "data": {
            "text/plain": [
              "<Figure size 864x576 with 1 Axes>"
            ],
            "image/png": "[encoded data removed]"
          },
          "metadata": {
            "needs_background": "light"
          }
        }
      ]
    },
    {
      "cell_type": "markdown",
      "source": [
        "## Training a $log$ function\n",
        "\n",
        "$f(x) = m * log(x) + b$\n",
        "\n",
        "### Derivatives to be used for the MSE calculation:\n",
        "\n",
        "$g=(Y_i - f(x))^2 = (Y_i - (m*log(X_i) +b))^2$\n",
        "\n",
        "- $ \\frac{\\partial g}{\\partial m} = -2log(X_i)*(Y_i-(m * log(X_i) + b))$\n",
        "\n",
        "- $ \\frac{\\partial g}{\\partial b} = -2(Y_i - (m * log(x) + b))$"
      ],
      "metadata": {
        "id": "GSZvdpOqO6du"
      }
    },
    {
      "cell_type": "code",
      "source": [
        "m = 5 # m\n",
        "b = 7 # b \n",
        "#Use a large range of x values to capture the full extent of what a log funcion does. small numbers to big numbers\n",
        "X_log = np.linspace(1,500, num = 1000)\n",
        "\n",
        "Y_log = [m * np.log(x) + b for x in X_log] # Define the function f(x) = y"
      ],
      "metadata": {
        "id": "j6FjJFtZOzzL"
      },
      "execution_count": null,
      "outputs": []
    },
    {
      "cell_type": "code",
      "source": [
        "def update_weights_log(m, b, X, Y, learning_rate):\n",
        "    m_deriv = 0\n",
        "    b_deriv = 0\n",
        "    N = len(X)\n",
        "    # Ableitung MSE\n",
        "    for i in range(N): # pytorch - backward # gradient tape\n",
        "        # Calculate partial derivatives\n",
        "        m_deriv += -2*np.log(X[i]) * (Y[i] - (m*np.log(X[i]) + b)) \n",
        "        b_deriv += -2*(Y[i] - (m*np.log(X[i])) + b)\n",
        "        \n",
        "\n",
        "    # We subtract because the derivatives point in direction of steepest ascent\n",
        "    m -= (m_deriv / float(N)) * learning_rate # später - in pytorch step\n",
        "    b -= (b_deriv / float(N)) * learning_rate\n",
        "    history_m.append(m)\n",
        "    history_b.append(b)\n",
        "    \n",
        "    return m,b\n",
        "\n",
        "def train(epochs):\n",
        "    m=0.11\n",
        "    b=0.2\n",
        "    learning_rate=0.0001\n",
        "    for i in range(epochs):\n",
        "        # abbruchskriterium - \"early stopping\"\n",
        "        m,b = update_weights_log(m, b, X_log, Y_log, learning_rate)\n",
        "    return m,b"
      ],
      "metadata": {
        "id": "-SchNm6dnc1z"
      },
      "execution_count": null,
      "outputs": []
    },
    {
      "cell_type": "code",
      "source": [
        "history_m = []\n",
        "history_b = []\n",
        "epochs = 1000\n",
        "train(epochs)"
      ],
      "metadata": {
        "colab": {
          "base_uri": "https://localhost:8080/"
        },
        "id": "TlUawenxRnDB",
        "outputId": "a1e5e7b2-a281-49a7-e9a8-ae8802717606"
      },
      "execution_count": null,
      "outputs": [
        {
          "output_type": "execute_result",
          "data": {
            "text/plain": [
              "(5.956467281496045, 1.8600622567697265)"
            ]
          },
          "metadata": {},
          "execution_count": 21
        }
      ]
    },
    {
      "cell_type": "code",
      "source": [
        "history_m[10]"
      ],
      "metadata": {
        "colab": {
          "base_uri": "https://localhost:8080/"
        },
        "id": "4foQsGVvT7HB",
        "outputId": "ef73f599-362c-4cc8-d631-69a989d738d6"
      },
      "execution_count": null,
      "outputs": [
        {
          "output_type": "execute_result",
          "data": {
            "text/plain": [
              "0.4809566108794476"
            ]
          },
          "metadata": {},
          "execution_count": 22
        }
      ]
    },
    {
      "cell_type": "code",
      "source": [
        "plt.figure(figsize=(12,8))\n",
        "plt.plot(history_m[0:epochs])\n",
        "plt.plot(history_b[0:epochs])\n",
        "\n",
        "plt.axhline(y=7, xmin=0, xmax=epochs, c='r', linewidth=2,linestyle=':') # b\n",
        "plt.axhline(y=5, xmin=0, xmax=epochs, c='b', linewidth=2, linestyle=':') # m\n",
        "plt.ylabel('value',fontsize= 18)\n",
        "plt.xlabel('epoch',fontsize= 18)\n",
        "plt.legend(['m', 'b'], loc='upper right', fontsize= 18);"
      ],
      "metadata": {
        "colab": {
          "base_uri": "https://localhost:8080/",
          "height": 505
        },
        "id": "NYkWDfFRRgqt",
        "outputId": "a772886e-c917-4866-d626-fd95aef2bcf5"
      },
      "execution_count": null,
      "outputs": [
        {
          "output_type": "display_data",
          "data": {
            "text/plain": [
              "<Figure size 864x576 with 1 Axes>"
            ],
            "image/png": "[encoded data removed]"
          },
          "metadata": {
            "needs_background": "light"
          }
        }
      ]
    },
    {
      "cell_type": "markdown",
      "source": [
        "# Homework 1\n",
        "\n",
        "## Train a linear function in two dimensions ($f \\in \\Re ^2$)\n",
        "\n",
        "$f(x,y) = ax + by +c$\n",
        "\n",
        "$g(a,b,c) = (Z_i - (f(x,y))^2 = (Z_i- (aX_i + bY_i +c))^2$\n",
        "\n",
        "- $\\frac{\\partial g}{\\partial a} = -2x(Z_i- (aX_i + bY_i +c))$\n",
        "\n",
        "- $\\frac{\\partial g}{\\partial b} = -2y(Z_i- (aX_i + bY_i +c))$\n",
        "\n",
        "- $\\frac{\\partial g}{\\partial c} = 2(Z_i- (aX_i + bY_i +c))$"
      ],
      "metadata": {
        "id": "iy6iyvz_X8Yv"
      }
    },
    {
      "cell_type": "code",
      "source": [
        "X_1 = [(i-1)/100 for i in np.random.randint(1, 100, size = 10)]\n",
        "X_2 = [(i-1)/100 for i in np.random.randint(1, 100, size = 10)]\n",
        "\n",
        "a= 3\n",
        "b= 4\n",
        "c= 6\n",
        "Y = [a * x_1 + b * x_2 +c for x_1, x_2 in zip(X_1, X_2)]\n",
        "\n",
        "print(Y)"
      ],
      "metadata": {
        "colab": {
          "base_uri": "https://localhost:8080/"
        },
        "id": "zC2uElCQYSFy",
        "outputId": "16eb8777-3f39-42a8-9fff-86ecc36117e6"
      },
      "execution_count": null,
      "outputs": [
        {
          "output_type": "stream",
          "name": "stdout",
          "text": [
            "[10.64, 8.120000000000001, 6.83, 10.25, 9.98, 9.0, 10.76, 8.76, 12.7, 12.42]\n"
          ]
        }
      ]
    },
    {
      "cell_type": "code",
      "source": [
        "history_a = []\n",
        "history_b = []\n",
        "history_c = []\n",
        "\n",
        "def update_weights_linear(a, b, c, X_1, X_2, Y, learning_rate):\n",
        "    a_deriv = 0\n",
        "    b_deriv = 0\n",
        "    c_deriv = 0\n",
        "    N = len(X_1)\n",
        "    # Ableitung MSE\n",
        "    for i in range(N): # pytorch - backward # gradient tape\n",
        "        a_deriv += -2*X_1[i]*(Y[i] - (a*X_1[i] + b* X_2[i]+c)) \n",
        "        b_deriv += -2*X_2[i]*(Y[i] - (a*X_1[i] + b* X_2[i]+c)) \n",
        "        c_deriv += -2*(Y[i] - (a*X_1[i] + b* X_2[i]+c))\n",
        "        \n",
        "\n",
        "    # We subtract because the derivatives point in direction of steepest ascent\n",
        "    a -= (a_deriv / float(N)) * learning_rate # später - in pytorch step\n",
        "    b -= (b_deriv / float(N)) * learning_rate\n",
        "    c -= (c_deriv / float(N)) * learning_rate\n",
        "    history_a.append(a)\n",
        "    history_b.append(b)\n",
        "    history_c.append(c)\n",
        "    \n",
        "    return a,b,c\n",
        "\n",
        "def train(epochs):\n",
        "    a=1\n",
        "    b=1\n",
        "    c=1\n",
        "    learning_rate=0.01\n",
        "    for i in range(epochs):\n",
        "        # abbruchskriterium - \"early stopping\"\n",
        "        a,b,c = update_weights_linear(a, b, c, X_1, X_2, Y, learning_rate)\n",
        "    return a,b,c"
      ],
      "metadata": {
        "id": "3PK2eyQrZhg4"
      },
      "execution_count": null,
      "outputs": []
    },
    {
      "cell_type": "code",
      "source": [
        "epochs = 10000\n",
        "train(epochs)"
      ],
      "metadata": {
        "colab": {
          "base_uri": "https://localhost:8080/"
        },
        "id": "tDOmOe10blYZ",
        "outputId": "67077410-9a6b-4a70-9f48-c8305b7346e5"
      },
      "execution_count": null,
      "outputs": [
        {
          "output_type": "execute_result",
          "data": {
            "text/plain": [
              "(3.005601993647875, 3.9925645690659946, 6.001527800506582)"
            ]
          },
          "metadata": {},
          "execution_count": 42
        }
      ]
    },
    {
      "cell_type": "code",
      "source": [
        "plt.figure(figsize=(12,8))\n",
        "plt.plot(history_a[0:epochs])\n",
        "plt.plot(history_b[0:epochs])\n",
        "plt.plot(history_c[0:epochs])\n",
        "\n",
        "plt.axhline(y=3, xmin=0, xmax=epochs, c='r', linewidth=2,linestyle=':') # a\n",
        "plt.axhline(y=4, xmin=0, xmax=epochs, c='b', linewidth=2, linestyle=':') # b\n",
        "plt.axhline(y=6, xmin=0, xmax=epochs, c='g', linewidth=2, linestyle=':') # c\n",
        "plt.ylabel('value',fontsize= 18)\n",
        "plt.xlabel('epoch',fontsize= 18)\n",
        "plt.legend(['a', 'b', 'c'], loc='upper right', fontsize= 18);"
      ],
      "metadata": {
        "colab": {
          "base_uri": "https://localhost:8080/",
          "height": 505
        },
        "id": "DW_eYNOzp8IN",
        "outputId": "9ddad526-0883-4325-affd-e9a7efde15cf"
      },
      "execution_count": null,
      "outputs": [
        {
          "output_type": "display_data",
          "data": {
            "text/plain": [
              "<Figure size 864x576 with 1 Axes>"
            ],
            "image/png": "[encoded data removed]"
          },
          "metadata": {
            "needs_background": "light"
          }
        }
      ]
    }
  ]
}